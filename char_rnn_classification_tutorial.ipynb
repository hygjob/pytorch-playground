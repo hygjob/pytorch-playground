{
  "nbformat": 4,
  "nbformat_minor": 0,
  "metadata": {
    "kernelspec": {
      "name": "python3",
      "display_name": "Python 3"
    },
    "language_info": {
      "codemirror_mode": {
        "name": "ipython",
        "version": 3
      },
      "file_extension": ".py",
      "mimetype": "text/x-python",
      "name": "python",
      "nbconvert_exporter": "python",
      "pygments_lexer": "ipython3",
      "version": "3.6.0"
    },
    "colab": {
      "name": "char_rnn_classification_tutorial.ipynb",
      "provenance": [],
      "collapsed_sections": [],
      "include_colab_link": true
    },
    "accelerator": "GPU"
  },
  "cells": [
    {
      "cell_type": "markdown",
      "metadata": {
        "id": "view-in-github",
        "colab_type": "text"
      },
      "source": [
        "<a href=\"https://colab.research.google.com/github/hygjob/pytorch-playground/blob/master/char_rnn_classification_tutorial.ipynb\" target=\"_parent\"><img src=\"https://colab.research.google.com/assets/colab-badge.svg\" alt=\"Open In Colab\"/></a>"
      ]
    },
    {
      "cell_type": "code",
      "metadata": {
        "id": "7Y1S_-Ottszw",
        "colab_type": "code",
        "colab": {}
      },
      "source": [
        "%matplotlib inline"
      ],
      "execution_count": 0,
      "outputs": []
    },
    {
      "cell_type": "markdown",
      "metadata": {
        "id": "NTwOEfMxtsz0",
        "colab_type": "text"
      },
      "source": [
        "\n",
        "문자 단위 RNN으로 이름 분류하기  \n",
        "*********************************************\n",
        "**Author**: `Sean Robertson <https://github.com/spro/practical-pytorch>`_\n",
        "  **번역**: `황성수 <https://github.com/adonisues>`_\n",
        "\n",
        "\n",
        "단어를 분류하기 위해 기본적인 문자 단위 RNN을 만들고 훈련 할 것입니다. 문자 단위 RNN은 문자의 연속을 읽어 들여서 각 단계의 예측과 \"hidden state\" 출력하고 다음 단계에 이전 hidden state를 전달합니다. 즉 단어가 속한 클래스 같은 출력을 최종 예측으로 선택합니다.\n",
        "\n",
        "특히, 18개 언어로 된 수천 개의 성(姓)을 훈련시키고, 철자에 따라 이름이 어떤 언어인지 예측합니다:\n",
        "\n",
        "::\n",
        "\n",
        "    $ python predict.py Hinton\n",
        "    (-0.47) Scottish\n",
        "    (-1.52) English\n",
        "    (-3.57) Irish\n",
        "\n",
        "    $ python predict.py Schmidhuber\n",
        "    (-0.19) German\n",
        "    (-2.48) Czech\n",
        "    (-2.68) Dutch\n",
        "\n",
        "\n",
        "**추천 자료:**\n",
        "\n",
        "최소한 Pytorch를 설치했고, Python을 알고, Tensor를 이해한다고 가정합니다.:\n",
        "\n",
        "-  http://pytorch.org/ 설치 안내를 위한 자료 \n",
        "-  :doc:`/beginner/deep_learning_60min_blitz` 일반적인 PyTorch 시작을 위한 자료\n",
        "-  :doc:`/beginner/pytorch_with_examples` 넓고 깊은 통찰을 위한 자료\n",
        "-  :doc:`/beginner/former_torchies_tutorial` 이전 Lua Torch 사용자를 위한 자료\n",
        "\n",
        "RNN과 그 작동 방식을 아는 것 또한 유용합니다.:\n",
        "\n",
        "-  `The Unreasonable Effectiveness of Recurrent Neural\n",
        "   Networks <http://karpathy.github.io/2015/05/21/rnn-effectiveness/>`__\n",
        "   실생활 예들을 보여 줍니다 \n",
        "-  `Understanding LSTM\n",
        "   Networks <http://colah.github.io/posts/2015-08-Understanding-LSTMs/>`__\n",
        "   특히 LSTM에 관한 것이지만 일반적인 RNN에 대한 정보입니다. \n",
        "\n",
        "\n",
        "데이터 준비하기\n",
        "==================\n",
        "\n",
        ".. NOTE::\n",
        "   `여기 <https://download.pytorch.org/tutorial/data.zip>`__ 에서 데이터를 다운 받고,\n",
        "   현재 디렉토리에 압축을 푸십시오.\n",
        "\n",
        "\n",
        "\n",
        "``data/names`` 디렉토리에는 \"[Language].txt\" 라는 18 개의 텍스트 파일이 포함되어 있습니다. 각 파일에는 한 줄에 하나의 이름이 포함되어 있으며 대부분 로마자로 표시되어 있습니다 (그러나, 유니 코드에서 ASCII로 변환해야 함).\n",
        "\n",
        "언어 별 이름 목록 사전이 ``{language : [names ...]}`` 로 끝날 것입니다. 일반 변수 \"category\" 와 \"line\" (이 경우 언어와 이름 용)은 이후의 확장성을 위해 사용됩니다.\n",
        "\n"
      ]
    },
    {
      "cell_type": "code",
      "metadata": {
        "id": "SMLuYWBQuyvb",
        "colab_type": "code",
        "colab": {
          "base_uri": "https://localhost:8080/",
          "height": 210
        },
        "outputId": "c48ee9c3-0d30-4466-d12a-55927d69af6d"
      },
      "source": [
        "!wget https://download.pytorch.org/tutorial/data.zip"
      ],
      "execution_count": 2,
      "outputs": [
        {
          "output_type": "stream",
          "text": [
            "--2019-09-18 04:57:17--  https://download.pytorch.org/tutorial/data.zip\n",
            "Resolving download.pytorch.org (download.pytorch.org)... 13.224.241.56, 13.224.241.66, 13.224.241.122, ...\n",
            "Connecting to download.pytorch.org (download.pytorch.org)|13.224.241.56|:443... connected.\n",
            "HTTP request sent, awaiting response... 200 OK\n",
            "Length: 2882130 (2.7M) [application/zip]\n",
            "Saving to: ‘data.zip’\n",
            "\n",
            "data.zip            100%[===================>]   2.75M  4.81MB/s    in 0.6s    \n",
            "\n",
            "2019-09-18 04:57:18 (4.81 MB/s) - ‘data.zip’ saved [2882130/2882130]\n",
            "\n"
          ],
          "name": "stdout"
        }
      ]
    },
    {
      "cell_type": "code",
      "metadata": {
        "id": "4aZDmyngu3Ka",
        "colab_type": "code",
        "colab": {
          "base_uri": "https://localhost:8080/",
          "height": 404
        },
        "outputId": "df268599-b75d-484d-e410-07bb31980b05"
      },
      "source": [
        "!unzip data.zip"
      ],
      "execution_count": 3,
      "outputs": [
        {
          "output_type": "stream",
          "text": [
            "Archive:  data.zip\n",
            "   creating: data/\n",
            "  inflating: data/eng-fra.txt        \n",
            "   creating: data/names/\n",
            "  inflating: data/names/Arabic.txt   \n",
            "  inflating: data/names/Chinese.txt  \n",
            "  inflating: data/names/Czech.txt    \n",
            "  inflating: data/names/Dutch.txt    \n",
            "  inflating: data/names/English.txt  \n",
            "  inflating: data/names/French.txt   \n",
            "  inflating: data/names/German.txt   \n",
            "  inflating: data/names/Greek.txt    \n",
            "  inflating: data/names/Irish.txt    \n",
            "  inflating: data/names/Italian.txt  \n",
            "  inflating: data/names/Japanese.txt  \n",
            "  inflating: data/names/Korean.txt   \n",
            "  inflating: data/names/Polish.txt   \n",
            "  inflating: data/names/Portuguese.txt  \n",
            "  inflating: data/names/Russian.txt  \n",
            "  inflating: data/names/Scottish.txt  \n",
            "  inflating: data/names/Spanish.txt  \n",
            "  inflating: data/names/Vietnamese.txt  \n"
          ],
          "name": "stdout"
        }
      ]
    },
    {
      "cell_type": "code",
      "metadata": {
        "id": "KFxiPIOYtsz1",
        "colab_type": "code",
        "colab": {
          "base_uri": "https://localhost:8080/",
          "height": 72
        },
        "outputId": "de964aeb-b6fc-4371-8a8a-76277089b692"
      },
      "source": [
        "from __future__ import unicode_literals, print_function, division\n",
        "from io import open\n",
        "import glob\n",
        "\n",
        "def findFiles(path): return glob.glob(path)\n",
        "\n",
        "print(findFiles('data/names/*.txt'))\n",
        "\n",
        "import unicodedata\n",
        "import string\n",
        "\n",
        "all_letters = string.ascii_letters + \" .,;'\"\n",
        "n_letters = len(all_letters)\n",
        "\n",
        "# 유니 코드 문자열을 일반 ASCII로 변환하십시오. http://stackoverflow.com/a/518232/2809427 에 감사드립니다.\n",
        "def unicodeToAscii(s):\n",
        "    return ''.join(\n",
        "        c for c in unicodedata.normalize('NFD', s)\n",
        "        if unicodedata.category(c) != 'Mn'\n",
        "        and c in all_letters\n",
        "    )\n",
        "\n",
        "print(unicodeToAscii('Ślusàrski'))\n",
        "\n",
        "# 언어별 이름 목록인 category_lines 사전을 만드십시오.\n",
        "category_lines = {}\n",
        "all_categories = []\n",
        "\n",
        "# 파일을 읽고 라인으로 분리하십시오\n",
        "def readLines(filename):\n",
        "    lines = open(filename, encoding='utf-8').read().strip().split('\\n')\n",
        "    return [unicodeToAscii(line) for line in lines]\n",
        "\n",
        "for filename in findFiles('data/names/*.txt'):\n",
        "    category = filename.split('/')[-1].split('.')[0]\n",
        "    all_categories.append(category)\n",
        "    lines = readLines(filename)\n",
        "    category_lines[category] = lines\n",
        "\n",
        "n_categories = len(all_categories)"
      ],
      "execution_count": 4,
      "outputs": [
        {
          "output_type": "stream",
          "text": [
            "['data/names/Greek.txt', 'data/names/Korean.txt', 'data/names/Spanish.txt', 'data/names/Russian.txt', 'data/names/Scottish.txt', 'data/names/Irish.txt', 'data/names/French.txt', 'data/names/Japanese.txt', 'data/names/Dutch.txt', 'data/names/Polish.txt', 'data/names/Czech.txt', 'data/names/German.txt', 'data/names/Portuguese.txt', 'data/names/Vietnamese.txt', 'data/names/Chinese.txt', 'data/names/Italian.txt', 'data/names/English.txt', 'data/names/Arabic.txt']\n",
            "Slusarski\n"
          ],
          "name": "stdout"
        }
      ]
    },
    {
      "cell_type": "markdown",
      "metadata": {
        "id": "BOfcxppntsz3",
        "colab_type": "text"
      },
      "source": [
        "이제 각 카테고리(언어)를 줄(이름) 목록에 매핑하는 사전인 \n",
        "``category_lines`` 가 있습니다. 또한 나중에 참조 할 수 있도록 \n",
        "``all_categories`` (언어 목록)와 ``n_categories`` 를 추적했습니다.\n",
        "\n",
        "\n"
      ]
    },
    {
      "cell_type": "code",
      "metadata": {
        "id": "HDCPRAaotsz4",
        "colab_type": "code",
        "colab": {
          "base_uri": "https://localhost:8080/",
          "height": 34
        },
        "outputId": "8720285a-152f-414b-abd3-00a743c08e22"
      },
      "source": [
        "print(category_lines['Italian'][:5])"
      ],
      "execution_count": 5,
      "outputs": [
        {
          "output_type": "stream",
          "text": [
            "['Abandonato', 'Abatangelo', 'Abatantuono', 'Abate', 'Abategiovanni']\n"
          ],
          "name": "stdout"
        }
      ]
    },
    {
      "cell_type": "markdown",
      "metadata": {
        "id": "RA1HnvU8tsz6",
        "colab_type": "text"
      },
      "source": [
        "이름을 Tensor 로 변경\n",
        "--------------------------\n",
        "\n",
        "이제는 모든 이름을 체계화 했으므로 이를 활용하기 위해 Tensor로 \n",
        "전환해야 합니다.\n",
        "\n",
        "하나의 문자를 표현하기 위해, 크기가 ``<1 x n_letters>`` 인 \n",
        "\"one-hot vector\" 를 사용합니다. one-hot 벡터는 현재 문자의 \n",
        "주소에만 1을 값을 가지고 그외에 나머지는 0으로 채워진다. \n",
        "예시 `` \"b\"= <0 1 0 0 0 ...> `` .\n",
        "\n",
        "단어를 만들기 위해 그 묶음을 2 차원 행렬 \n",
        "``<line_length x 1 x n_letters>`` 에 결합시킵니다.\n",
        "\n",
        "이 추가 1 차원은 PyTorch가 모든 것이 뱃치(batch)에 있다고 가정하기 \n",
        "때문에 발생합니다. 여기서는 뱃치 크기 1을 사용하고 있습니다.\n",
        "\n",
        "\n"
      ]
    },
    {
      "cell_type": "code",
      "metadata": {
        "id": "YfmVU_gltsz7",
        "colab_type": "code",
        "colab": {
          "base_uri": "https://localhost:8080/",
          "height": 105
        },
        "outputId": "ed41ffb3-bbd0-492a-baba-4a65a460319f"
      },
      "source": [
        "import torch\n",
        "\n",
        "# all_letters 로 문자의 주소 찾기, 예시 \"a\" = 0\n",
        "def letterToIndex(letter):\n",
        "    return all_letters.find(letter)\n",
        "\n",
        "# 검증을 위해서 한 문자를 <1 x n_letters> Tensor로 변환하기\n",
        "def letterToTensor(letter):\n",
        "    tensor = torch.zeros(1, n_letters)\n",
        "    tensor[0][letterToIndex(letter)] = 1\n",
        "    return tensor\n",
        "\n",
        "# 한 줄(이름)을  <line_length x 1 x n_letters>,\n",
        "# 또는 문자 벡터의 어레이로 변경하기\n",
        "def lineToTensor(line):\n",
        "    tensor = torch.zeros(len(line), 1, n_letters)\n",
        "    for li, letter in enumerate(line):\n",
        "        tensor[li][0][letterToIndex(letter)] = 1\n",
        "    return tensor\n",
        "\n",
        "print(letterToTensor('J'))\n",
        "\n",
        "print(lineToTensor('Jones').size())"
      ],
      "execution_count": 6,
      "outputs": [
        {
          "output_type": "stream",
          "text": [
            "tensor([[0., 0., 0., 0., 0., 0., 0., 0., 0., 0., 0., 0., 0., 0., 0., 0., 0., 0.,\n",
            "         0., 0., 0., 0., 0., 0., 0., 0., 0., 0., 0., 0., 0., 0., 0., 0., 0., 1.,\n",
            "         0., 0., 0., 0., 0., 0., 0., 0., 0., 0., 0., 0., 0., 0., 0., 0., 0., 0.,\n",
            "         0., 0., 0.]])\n",
            "torch.Size([5, 1, 57])\n"
          ],
          "name": "stdout"
        }
      ]
    },
    {
      "cell_type": "markdown",
      "metadata": {
        "id": "Rh9thBFatsz-",
        "colab_type": "text"
      },
      "source": [
        "네트워크 생성\n",
        "====================\n",
        "\n",
        "Autograd 전에, Torch에서 RNN(recurrent neural network) 생성에는 \n",
        "여러 타임 스텝에서 Layer의 파라미터를 복제하는 작업을 포함합니다.\n",
        "이제 Layer는 그래프 자체에서 완전히 처리되는 Hidden State와 \n",
        "Gradient를 가지게 됩니다. 즉, feed-forward layer 같은 매우 \"순수한\" \n",
        "방법으로 RNN을 구현할 수 있습니다.\n",
        "\n",
        "이 RNN 모듈 (대부분 `Torch 사용자를 위한 PyTorch 튜토리얼\n",
        "<http://pytorch.org/tutorials/beginner/former_torchies/\n",
        "nn_tutorial.html#example-2-recurrent-net>`__ 에서 복사). \n",
        "은 input 및 hidden state에서 작동하는 2개의 선형 레이어이며, \n",
        "출력 후에 LogSoftmax 레이어가 있습니다.\n",
        "\n",
        ".. figure:: https://i.imgur.com/Z2xbySO.png\n",
        "   :alt:\n",
        "\n",
        "\n",
        "\n"
      ]
    },
    {
      "cell_type": "code",
      "metadata": {
        "id": "ViZ1rSwutsz_",
        "colab_type": "code",
        "colab": {}
      },
      "source": [
        "import torch.nn as nn\n",
        "from torch.autograd import Variable\n",
        "\n",
        "class RNN(nn.Module):\n",
        "    def __init__(self, input_size, hidden_size, output_size):\n",
        "        super(RNN, self).__init__()\n",
        "\n",
        "        self.hidden_size = hidden_size\n",
        "\n",
        "        self.i2h = nn.Linear(input_size + hidden_size, hidden_size)\n",
        "        self.i2o = nn.Linear(input_size + hidden_size, output_size)\n",
        "        self.softmax = nn.LogSoftmax(dim=1)\n",
        "\n",
        "    def forward(self, input, hidden):\n",
        "        combined = torch.cat((input, hidden), 1)\n",
        "        hidden = self.i2h(combined)\n",
        "        output = self.i2o(combined)\n",
        "        output = self.softmax(output)\n",
        "        return output, hidden\n",
        "\n",
        "    def initHidden(self):\n",
        "        return Variable(torch.zeros(1, self.hidden_size))\n",
        "\n",
        "n_hidden = 128\n",
        "rnn = RNN(n_letters, n_hidden, n_categories)"
      ],
      "execution_count": 0,
      "outputs": []
    },
    {
      "cell_type": "markdown",
      "metadata": {
        "id": "Rb5KcnS-ts0D",
        "colab_type": "text"
      },
      "source": [
        "이 네트워크의 한 단계를 실행하려면 입력(현재 문자의 Tensor)과 \n",
        "이전의 hidden state (처음에는 0으로 초기화)를 전달해야 합니다.\n",
        "출력(각 언어의 확률)과 다음 hidden state (다음 단계를 위해 유지)를 \n",
        "돌려 받습니다.\n",
        "\n",
        "PyTorch 모듈은 Tensors에서 바로 작동하는 대신에 Variables에서 \n",
        "작동한다는 것을 기억하십시오.\n",
        "\n",
        "\n"
      ]
    },
    {
      "cell_type": "code",
      "metadata": {
        "id": "Wyoe9VMBts0D",
        "colab_type": "code",
        "colab": {}
      },
      "source": [
        "input = Variable(letterToTensor('A'))\n",
        "hidden = Variable(torch.zeros(1, n_hidden))\n",
        "\n",
        "output, next_hidden = rnn(input, hidden)"
      ],
      "execution_count": 0,
      "outputs": []
    },
    {
      "cell_type": "markdown",
      "metadata": {
        "id": "Ga3fQ2xlts0H",
        "colab_type": "text"
      },
      "source": [
        "효율성을 위해서 매 단계마다 새로운 Tensor를 만들고 싶지 않기 때문에\n",
        "``letterToTensor`` 대신 ``lineToTensor`` 를 잘라서 사용할 \n",
        "것입니다. 이것은 Tensor의 사전 연산(pre-computing) 뱃치에 의해 \n",
        "더욱 최적화 될 수 있습니다.\n",
        "\n",
        "\n"
      ]
    },
    {
      "cell_type": "code",
      "metadata": {
        "id": "W19BJXxyts0I",
        "colab_type": "code",
        "colab": {
          "base_uri": "https://localhost:8080/",
          "height": 70
        },
        "outputId": "d2ce47d2-6ee9-4926-a388-fa26ba7d2ebd"
      },
      "source": [
        "input = Variable(lineToTensor('Albert'))\n",
        "hidden = Variable(torch.zeros(1, n_hidden))\n",
        "\n",
        "output, next_hidden = rnn(input[0], hidden)\n",
        "print(output)"
      ],
      "execution_count": 9,
      "outputs": [
        {
          "output_type": "stream",
          "text": [
            "tensor([[-2.8551, -3.0100, -2.8571, -2.9539, -2.9720, -2.8926, -2.9063, -2.8324,\n",
            "         -2.9413, -2.8309, -2.7972, -2.9239, -2.8702, -2.9245, -2.8642, -2.9129,\n",
            "         -2.8640, -2.8443]], grad_fn=<LogSoftmaxBackward>)\n"
          ],
          "name": "stdout"
        }
      ]
    },
    {
      "cell_type": "markdown",
      "metadata": {
        "id": "8J9YLzeYts0N",
        "colab_type": "text"
      },
      "source": [
        "보시다시피 출력은 ``<1 x n_categories>`` Tensor이고, 모든 항목은 \n",
        "해당 카테고리의 우도(likelihood) 입니다 (더 높은 것이 더 가능성 높음).\n",
        "\n",
        "\n"
      ]
    },
    {
      "cell_type": "markdown",
      "metadata": {
        "id": "V0rOIRynts0O",
        "colab_type": "text"
      },
      "source": [
        "학습\n",
        "========\n",
        "학습 준비\n",
        "----------------------\n",
        "\n",
        "학습으로 들어가기 전에 몇몇 도움되는 함수를 만들어야합니다. 첫째는\n",
        "네트워크의 알고 있는 각 카테고리의 우도로 출력을 해석하기 입니다.\n",
        "가장 큰 값의 주소를 알기 위해서 ``Tensor.topk`` 를 쓸 수 있습니다.\n",
        "\n",
        "\n"
      ]
    },
    {
      "cell_type": "code",
      "metadata": {
        "id": "K4D2SA4-ts0O",
        "colab_type": "code",
        "colab": {
          "base_uri": "https://localhost:8080/",
          "height": 34
        },
        "outputId": "c4c021b8-4507-432c-af51-4e1317f7f6ff"
      },
      "source": [
        "def categoryFromOutput(output):\n",
        "    top_n, top_i = output.data.topk(1) # Tensor out of Variable with .data\n",
        "    category_i = top_i[0][0]\n",
        "    return all_categories[category_i], category_i\n",
        "\n",
        "print(categoryFromOutput(output))"
      ],
      "execution_count": 10,
      "outputs": [
        {
          "output_type": "stream",
          "text": [
            "('Czech', tensor(10))\n"
          ],
          "name": "stdout"
        }
      ]
    },
    {
      "cell_type": "markdown",
      "metadata": {
        "id": "I7PiAtTDts0V",
        "colab_type": "text"
      },
      "source": [
        "또한 학습 예시(이름과 언어)를 얻는 빠른 방법을 원할 것입니다.\n",
        "\n",
        "\n"
      ]
    },
    {
      "cell_type": "code",
      "metadata": {
        "id": "_vlU42y6ts0Y",
        "colab_type": "code",
        "colab": {
          "base_uri": "https://localhost:8080/",
          "height": 193
        },
        "outputId": "4050ba3b-df2e-4d47-9c63-c50d43c6147c"
      },
      "source": [
        "import random\n",
        "\n",
        "def randomChoice(l):\n",
        "    return l[random.randint(0, len(l) - 1)]\n",
        "\n",
        "def randomTrainingExample():\n",
        "    category = randomChoice(all_categories)\n",
        "    line = randomChoice(category_lines[category])\n",
        "    category_tensor = Variable(torch.LongTensor([all_categories.index(category)]))\n",
        "    line_tensor = Variable(lineToTensor(line))\n",
        "    return category, line, category_tensor, line_tensor\n",
        "\n",
        "for i in range(10):\n",
        "    category, line, category_tensor, line_tensor = randomTrainingExample()\n",
        "    print('category =', category, '/ line =', line)"
      ],
      "execution_count": 11,
      "outputs": [
        {
          "output_type": "stream",
          "text": [
            "category = Chinese / line = Yun\n",
            "category = Greek / line = Vassilopulos\n",
            "category = Japanese / line = Choshi\n",
            "category = Vietnamese / line = Thao\n",
            "category = Chinese / line = Chieu\n",
            "category = Polish / line = Wojewodzki\n",
            "category = Czech / line = Kudrna\n",
            "category = Greek / line = Rorris\n",
            "category = Portuguese / line = Santana\n",
            "category = Arabic / line = Tuma\n"
          ],
          "name": "stdout"
        }
      ]
    },
    {
      "cell_type": "markdown",
      "metadata": {
        "id": "2Yg_-0_mts0d",
        "colab_type": "text"
      },
      "source": [
        "네트워크 학습\n",
        "--------------------\n",
        "\n",
        "이제 이 네트워크를 훈련하는 데 필요한 모든 예시를 보여주고 추측을 \n",
        "하고, 만일 잘못되었다면 말해줍니다.\n",
        "\n",
        "RNN의 마지막 레이어가 ``nn.LogSoftmax`` 이므로 손실 함수로 \n",
        "``nn.NLLLoss`` 가 적합합니다.\n",
        "\n",
        "\n"
      ]
    },
    {
      "cell_type": "code",
      "metadata": {
        "id": "fcZ69elqts0e",
        "colab_type": "code",
        "colab": {}
      },
      "source": [
        "criterion = nn.NLLLoss()"
      ],
      "execution_count": 0,
      "outputs": []
    },
    {
      "cell_type": "markdown",
      "metadata": {
        "id": "P-0DGC2Rts0h",
        "colab_type": "text"
      },
      "source": [
        "학습의 각 루프는 다음을 실행 합니다.:\n",
        "\n",
        "-  입력과 목표 tensor 생성\n",
        "-  0 로 초기화된 hidden state 생성 \n",
        "-  각 문자를 읽기 \n",
        "\n",
        "   -  다음 문자를 위한 hidden state 유지\n",
        "\n",
        "-  목표와 출력 비교\n",
        "-  역전파\n",
        "-  출려과 손실 리턴\n",
        "\n",
        "\n"
      ]
    },
    {
      "cell_type": "code",
      "metadata": {
        "id": "lxIHzFw3ts0i",
        "colab_type": "code",
        "colab": {}
      },
      "source": [
        "learning_rate = 0.005 # 이것을 너무 높게 설정하면 폭발할 수 있고 너무 낮으면 학습이 되지 않을 수 있습니다.\n",
        "\n",
        "def train(category_tensor, line_tensor):\n",
        "    hidden = rnn.initHidden()\n",
        "\n",
        "    rnn.zero_grad()\n",
        "\n",
        "    for i in range(line_tensor.size()[0]):\n",
        "        output, hidden = rnn(line_tensor[i], hidden)\n",
        "\n",
        "    loss = criterion(output, category_tensor)\n",
        "    loss.backward()\n",
        "\n",
        "    # learning rate를 곱한 파리미터의 경사도를 파리미터 값에 더합니다.\n",
        "    for p in rnn.parameters():\n",
        "        p.data.add_(-learning_rate, p.grad.data)\n",
        "\n",
        "    #return output, loss.data[0]\n",
        "    return output, loss.data.item()"
      ],
      "execution_count": 0,
      "outputs": []
    },
    {
      "cell_type": "markdown",
      "metadata": {
        "id": "m4mTzDpets0k",
        "colab_type": "text"
      },
      "source": [
        "이제 예제를 사용하여 실행해야합니다. ``train`` 함수가 출력과 손실을 \n",
        "반환하기 때문에 추측을 출력하고 도식화를 위한 손실을 추적 할 수 \n",
        "있습니다. 1000개의 예제가 있기 때문에 모든 ``print_every`` 예제만 \n",
        "출력하고 손실의 평균을 얻습니다.\n",
        "\n",
        "\n"
      ]
    },
    {
      "cell_type": "code",
      "metadata": {
        "id": "cqOalF0Ats0l",
        "colab_type": "code",
        "colab": {
          "base_uri": "https://localhost:8080/",
          "height": 369
        },
        "outputId": "5d739f5b-06c1-4ff1-d6af-777c25f2bfff"
      },
      "source": [
        "import time\n",
        "import math\n",
        "\n",
        "n_iters = 100000\n",
        "print_every = 5000\n",
        "plot_every = 1000\n",
        "\n",
        "\n",
        "\n",
        "# 도식화를 위한 소실 추적\n",
        "current_loss = 0\n",
        "all_losses = []\n",
        "\n",
        "def timeSince(since):\n",
        "    now = time.time()\n",
        "    s = now - since\n",
        "    m = math.floor(s / 60)\n",
        "    s -= m * 60\n",
        "    return '%dm %ds' % (m, s)\n",
        "\n",
        "start = time.time()\n",
        "\n",
        "for iter in range(1, n_iters + 1):\n",
        "    category, line, category_tensor, line_tensor = randomTrainingExample()\n",
        "    output, loss = train(category_tensor, line_tensor)\n",
        "    current_loss += loss\n",
        "\n",
        "    # iter 숫자, 손실, 이름, 추측 출력\n",
        "    if iter % print_every == 0:\n",
        "        guess, guess_i = categoryFromOutput(output)\n",
        "        correct = '✓' if guess == category else '✗ (%s)' % category\n",
        "        print('%d %d%% (%s) %.4f %s / %s %s' % (iter, iter / n_iters * 100, timeSince(start), loss, line, guess, correct))\n",
        "\n",
        "    # 현재 평균 손실을 손실 리스트에 추가\n",
        "    if iter % plot_every == 0:\n",
        "        all_losses.append(current_loss / plot_every)\n",
        "        current_loss = 0"
      ],
      "execution_count": 16,
      "outputs": [
        {
          "output_type": "stream",
          "text": [
            "5000 5% (0m 8s) 2.2175 Sha / Korean ✗ (Chinese)\n",
            "10000 10% (0m 16s) 1.2014 Czajkowski / Polish ✓\n",
            "15000 15% (0m 25s) 1.0346 Yeon / Korean ✓\n",
            "20000 20% (0m 33s) 2.3388 Winograd / Scottish ✗ (Polish)\n",
            "25000 25% (0m 41s) 0.3980 Henderson / Scottish ✓\n",
            "30000 30% (0m 50s) 1.7146 Santos / Greek ✗ (Portuguese)\n",
            "35000 35% (0m 58s) 1.6522 Golofaev / Russian ✓\n",
            "40000 40% (1m 6s) 1.7847 Han / Chinese ✗ (Vietnamese)\n",
            "45000 45% (1m 15s) 1.0309 Raghailligh / Irish ✓\n",
            "50000 50% (1m 23s) 0.8069 Sauvageau / French ✓\n",
            "55000 55% (1m 31s) 1.7890 Pinheiro / Japanese ✗ (Portuguese)\n",
            "60000 60% (1m 39s) 0.0862 Vyrubov / Russian ✓\n",
            "65000 65% (1m 48s) 0.8963 Fei / Chinese ✓\n",
            "70000 70% (1m 56s) 1.4396 Hendry / Scottish ✗ (English)\n",
            "75000 75% (2m 4s) 1.4423 Zapatero / Spanish ✓\n",
            "80000 80% (2m 12s) 2.8284 Jasso / Arabic ✗ (Spanish)\n",
            "85000 85% (2m 21s) 2.5514 Bonner / German ✗ (French)\n",
            "90000 90% (2m 29s) 3.9632 Niftrik / Czech ✗ (Dutch)\n",
            "95000 95% (2m 37s) 1.6078 Abascal / Czech ✗ (Spanish)\n",
            "100000 100% (2m 45s) 1.0890 Kuang / Chinese ✓\n"
          ],
          "name": "stdout"
        }
      ]
    },
    {
      "cell_type": "markdown",
      "metadata": {
        "id": "gwt3xeZAts0n",
        "colab_type": "text"
      },
      "source": [
        "결과 도식화\n",
        "--------------------\n",
        "\n",
        "``all_losses`` 를 이용한 역사적인 손실 도식화는 \n",
        "네트워크의 학습을 보여준다\n",
        "\n",
        "\n"
      ]
    },
    {
      "cell_type": "code",
      "metadata": {
        "id": "pWY_0hQets0o",
        "colab_type": "code",
        "colab": {
          "base_uri": "https://localhost:8080/",
          "height": 286
        },
        "outputId": "e29ed1ed-da55-4fdb-8786-c518a2ec2b69"
      },
      "source": [
        "import matplotlib.pyplot as plt\n",
        "import matplotlib.ticker as ticker\n",
        "\n",
        "plt.figure()\n",
        "plt.plot(all_losses)"
      ],
      "execution_count": 17,
      "outputs": [
        {
          "output_type": "execute_result",
          "data": {
            "text/plain": [
              "[<matplotlib.lines.Line2D at 0x7f98a8309f60>]"
            ]
          },
          "metadata": {
            "tags": []
          },
          "execution_count": 17
        },
        {
          "output_type": "display_data",
          "data": {
            "image/png": "[encoded data removed]",
            "text/plain": [
              "<Figure size 432x288 with 1 Axes>"
            ]
          },
          "metadata": {
            "tags": []
          }
        }
      ]
    },
    {
      "cell_type": "markdown",
      "metadata": {
        "id": "6b8s2Wzkts0q",
        "colab_type": "text"
      },
      "source": [
        "결과 평가\n",
        "======================\n",
        "\n",
        "네트워크가 다른 카테고리에서 얼마나 잘 작동하는지 보려면 \n",
        "네트워크에서 추측한 언어(행)와 실제 언어(행)를 나타내는 \n",
        "혼란 행열(confusion matrix)을 만듭니다. 혼란 행렬을 계산하기 위해 \n",
        "``evaluate()`` 로 많은 수의 샘플을 네트워크에 실행합니다. \n",
        "``evaluate()`` 은 ``train ()`` 과 역전파를 빼면 동일합니다.\n",
        "\n",
        "\n"
      ]
    },
    {
      "cell_type": "code",
      "metadata": {
        "id": "_Uj6Q3YIts0r",
        "colab_type": "code",
        "colab": {
          "base_uri": "https://localhost:8080/",
          "height": 321
        },
        "outputId": "b2df1412-4ea1-4005-c60a-40b39dae1a6e"
      },
      "source": [
        "# 혼란 행렬에서 정확한 추측을 추적\n",
        "confusion = torch.zeros(n_categories, n_categories)\n",
        "n_confusion = 10000\n",
        "\n",
        "# 주어진 라인의 출력 반환\n",
        "def evaluate(line_tensor):\n",
        "    hidden = rnn.initHidden()\n",
        "\n",
        "    for i in range(line_tensor.size()[0]):\n",
        "        output, hidden = rnn(line_tensor[i], hidden)\n",
        "\n",
        "    return output\n",
        "\n",
        "# 올바르게 추측 된 예시와 기록을 살펴보십시오.  \n",
        "for i in range(n_confusion):\n",
        "    category, line, category_tensor, line_tensor = randomTrainingExample()\n",
        "    output = evaluate(line_tensor)\n",
        "    guess, guess_i = categoryFromOutput(output)\n",
        "    category_i = all_categories.index(category)\n",
        "    confusion[category_i][guess_i] += 1\n",
        "\n",
        "# 모든 행을 합계로 나눔으로써 정규화하십시오.\n",
        "for i in range(n_categories):\n",
        "    confusion[i] = confusion[i] / confusion[i].sum()\n",
        "\n",
        "# 도식 설정\n",
        "fig = plt.figure()\n",
        "ax = fig.add_subplot(111)\n",
        "cax = ax.matshow(confusion.numpy())\n",
        "fig.colorbar(cax)\n",
        "\n",
        "# 축 설정\n",
        "ax.set_xticklabels([''] + all_categories, rotation=90)\n",
        "ax.set_yticklabels([''] + all_categories)\n",
        "\n",
        "# 모든 tick에서 강제로 레이블 지정 \n",
        "ax.xaxis.set_major_locator(ticker.MultipleLocator(1))\n",
        "ax.yaxis.set_major_locator(ticker.MultipleLocator(1))\n",
        "\n",
        "# sphinx_gallery_thumbnail_number = 2\n",
        "plt.show()"
      ],
      "execution_count": 18,
      "outputs": [
        {
          "output_type": "display_data",
          "data": {
            "image/png": "[encoded data removed]",
            "text/plain": [
              "<Figure size 432x288 with 2 Axes>"
            ]
          },
          "metadata": {
            "tags": []
          }
        }
      ]
    },
    {
      "cell_type": "markdown",
      "metadata": {
        "id": "jocQWIllts0t",
        "colab_type": "text"
      },
      "source": [
        "주축에서 벗어난 밝은 점을 선택하여 잘못 추측한 언어를 표시 \n",
        "할 수 있습니다. 예를 들어 한국어는 중국어로 이탈리아어로 스페인어로.\n",
        "그리스어는 매우 잘되는 것으로 영어는 매우 나쁜것으로 보입니다.\n",
        "(아마도 다른 언어들과 중첩되기 때문에)\n",
        "\n",
        "\n"
      ]
    },
    {
      "cell_type": "markdown",
      "metadata": {
        "id": "gKUmcwFRts0t",
        "colab_type": "text"
      },
      "source": [
        "사용자 입력으로 실행\n",
        "---------------------\n",
        "\n",
        "\n"
      ]
    },
    {
      "cell_type": "code",
      "metadata": {
        "id": "yTFjqj98ts0x",
        "colab_type": "code",
        "colab": {
          "base_uri": "https://localhost:8080/",
          "height": 281
        },
        "outputId": "bd407162-a0d1-43df-d870-c90a09cc6065"
      },
      "source": [
        "def predict(input_line, n_predictions=3):\n",
        "    print('\\n> %s' % input_line)\n",
        "    output = evaluate(Variable(lineToTensor(input_line)))\n",
        "\n",
        "    # 최고 N 카테고리 얻기\n",
        "    topv, topi = output.data.topk(n_predictions, 1, True)\n",
        "    predictions = []\n",
        "\n",
        "    for i in range(n_predictions):\n",
        "        value = topv[0][i]\n",
        "        category_index = topi[0][i]\n",
        "        print('(%.2f) %s' % (value, all_categories[category_index]))\n",
        "        predictions.append([value, all_categories[category_index]])\n",
        "\n",
        "predict('Dovesky')\n",
        "predict('Jackson')\n",
        "predict('Satoshi')"
      ],
      "execution_count": 19,
      "outputs": [
        {
          "output_type": "stream",
          "text": [
            "\n",
            "> Dovesky\n",
            "(-0.45) Russian\n",
            "(-1.67) Czech\n",
            "(-2.62) English\n",
            "\n",
            "> Jackson\n",
            "(-0.23) Scottish\n",
            "(-2.15) English\n",
            "(-3.55) Russian\n",
            "\n",
            "> Satoshi\n",
            "(-1.26) Portuguese\n",
            "(-1.38) Japanese\n",
            "(-1.63) Arabic\n"
          ],
          "name": "stdout"
        }
      ]
    },
    {
      "cell_type": "code",
      "metadata": {
        "id": "mfTxOuoGzebu",
        "colab_type": "code",
        "colab": {
          "base_uri": "https://localhost:8080/",
          "height": 105
        },
        "outputId": "9bc1dc14-77d5-4a79-a279-ff43b10e7092"
      },
      "source": [
        "predict('Chulsu')"
      ],
      "execution_count": 24,
      "outputs": [
        {
          "output_type": "stream",
          "text": [
            "\n",
            "> Chulsu\n",
            "(-1.65) German\n",
            "(-1.91) English\n",
            "(-2.02) Japanese\n"
          ],
          "name": "stdout"
        }
      ]
    },
    {
      "cell_type": "markdown",
      "metadata": {
        "id": "k1S84XXhts0z",
        "colab_type": "text"
      },
      "source": [
        "`실용 PyTorch 저장소\n",
        "<https://github.com/spro/practical-pytorch/tree/master/char-rnn-classification>`__\n",
        "의 최종 버전 스크립트는 위 코드를 몇개의 파일로 분할했습니다.:\n",
        "\n",
        "-  ``data.py`` (파일 읽기)\n",
        "-  ``model.py`` (RNN 정의)\n",
        "-  ``train.py`` (학습 실행)\n",
        "-  ``predict.py`` (커멘드 라인 인자로 ``predict()`` 실행)\n",
        "-  ``server.py`` (bottle.py를 사용하여 JSON API로 예측 제공)\n",
        "\n",
        "학습과 네트워크 저장을 위해 ``train.py`` 실행.\n",
        "\n",
        "이름으로 예측을 보기 위해 ``predict.py`` 실행:\n",
        "\n",
        "::\n",
        "\n",
        "    $ python predict.py Hazaki\n",
        "    (-0.42) Japanese\n",
        "    (-1.39) Polish\n",
        "    (-3.51) Czech\n",
        "\n",
        "``server.py`` 를 실행하고 예측의 JSON 출력을 얻기 위해 \n",
        "http://localhost:5533/Yourname 방문.\n",
        "\n",
        "\n"
      ]
    },
    {
      "cell_type": "markdown",
      "metadata": {
        "id": "lqkJfqO2ts00",
        "colab_type": "text"
      },
      "source": [
        "연습\n",
        "=========\n",
        "\n",
        "-  \"line -> category\" 의 다른 데이터 집합으로 시도해보십시오, 예를 들어:\n",
        "\n",
        "   -  단어 -> 언어\n",
        "   -  이름 -> 성별\n",
        "   -  캐릭터 이름 -> 작가\n",
        "   -  페이지 제목 -> 블로그 또는 서브레딧\n",
        "\n",
        "-  더 크고 더 나은 모양의 네트워크로 더 나은 결과를 얻으십시오.\n",
        "\n",
        "   -  더많은 선형 layer 추가해 보십시오\n",
        "   -  ``nn.LSTM`` 과 ``nn.GRU`` layer 추가해 보십시오\n",
        "   -  여러 개의 이런 RNN을 상위 수준 네트워크로 결합해 보십시오\n",
        "\n",
        "\n"
      ]
    }
  ]
}